{
 "cells": [
  {
   "cell_type": "code",
   "execution_count": 2,
   "id": "bf2c9641",
   "metadata": {},
   "outputs": [
    {
     "name": "stdout",
     "output_type": "stream",
     "text": [
      "Enter the total rent =10000\n",
      "Enter the total food charges for 1 person = 3000\n",
      "Enter the total water charges = 1000\n",
      "Enter the total electricity units = 500\n",
      "Enter the electricity charges per unit = 8\n",
      "Enter the number of persons living in room = 5\n",
      "Each person will pay = 30000\n",
      "Each person will pay = 6000\n"
     ]
    }
   ],
   "source": [
    "#Implementing a rent calculator\n",
    "#Variables used:- house rent, water charges, food charges per person per month, electricity charges, number of persons.\n",
    "\n",
    "\n",
    "\n",
    "#inputing variables\n",
    "house_rent = int(input(\"Enter the total rent =\"))\n",
    "food_charge = int(input(\"Enter the total food charges for 1 person = \" ))\n",
    "water_charge = int(input(\"Enter the total water charges = \"))\n",
    "elec_units = int(input(\"Enter the total electricity units = \" ))\n",
    "elec_charges = int(input(\"Enter the electricity charges per unit = \"))\n",
    "person = int(input(\"Enter the number of persons living in room = \"))\n",
    "total_rent = (house_rent + food_charge*person + water_charge + elec_charges*elec_units)\n",
    "rent_per_person = (house_rent + food_charge*person + water_charge + elec_charges*elec_units)//person \n",
    "#printing rent\n",
    "print(\"Each person will pay =\", total_rent)\n",
    "print(\"Each person will pay =\", rent_per_person)"
   ]
  },
  {
   "cell_type": "code",
   "execution_count": null,
   "id": "7b603352",
   "metadata": {},
   "outputs": [],
   "source": []
  }
 ],
 "metadata": {
  "kernelspec": {
   "display_name": "Python 3",
   "language": "python",
   "name": "python3"
  },
  "language_info": {
   "codemirror_mode": {
    "name": "ipython",
    "version": 3
   },
   "file_extension": ".py",
   "mimetype": "text/x-python",
   "name": "python",
   "nbconvert_exporter": "python",
   "pygments_lexer": "ipython3",
   "version": "3.8.8"
  }
 },
 "nbformat": 4,
 "nbformat_minor": 5
}
